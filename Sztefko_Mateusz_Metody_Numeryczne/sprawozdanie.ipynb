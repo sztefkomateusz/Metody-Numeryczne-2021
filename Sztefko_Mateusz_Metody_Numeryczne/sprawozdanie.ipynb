{
 "cells": [
  {
   "cell_type": "markdown",
   "metadata": {
    "slideshow": {
     "slide_type": "notes"
    }
   },
   "source": [
    "# <center>Laboratorium 1<br>Metody Numeryczne</center>"
   ]
  },
  {
   "cell_type": "markdown",
   "metadata": {},
   "source": [
    "Sztefko Mateusz 407388"
   ]
  },
  {
   "cell_type": "markdown",
   "metadata": {},
   "source": [
    "Biblioteki niezbędne do wykonania zadania:\n",
    "\n",
    "(wykonanie tego bloku zapewnia do nich dostęp w kolejnych blokach)"
   ]
  },
  {
   "cell_type": "code",
   "execution_count": 6,
   "metadata": {},
   "outputs": [
    {
     "name": "stdout",
     "output_type": "stream",
     "text": [
      "[[ 4]\n",
      " [12]\n",
      " [52]]\n",
      "[[-6]\n",
      " [-3]\n",
      " [ 4]]\n",
      "[[  8]\n",
      " [ 15]\n",
      " [-26]]\n",
      "[[  3 -21   9]\n",
      " [-36   9  12]\n",
      " [ 15  39  -9]]\n",
      "[[  4. -20.  10.]\n",
      " [-35.  10.  13.]\n",
      " [ 16.  40.  -8.]]\n",
      "[[  1 -12   5]\n",
      " [ -7   3  13]\n",
      " [  3   4  -3]]\n",
      "[[19]\n",
      " [49]\n",
      " [ 5]]\n",
      "[[-62 -67  50]]\n",
      "None\n"
     ]
    }
   ],
   "source": [
    "import main\n",
    "import numpy as np\n",
    "import math\n"
   ]
  },
  {
   "cell_type": "markdown",
   "metadata": {},
   "source": [
    "Przydatne w trakcie zajęć mogą okazać się metody macierzy z pakietu Numpy, takie jak na przykład długość wektora - *[len]()* czy rozmiar macierzy -\n",
    "*[shape](https://docs.scipy.org/doc/numpy/reference/generated/numpy.ndarray.shape.html#numpy.ndarray.shape)*. Poniższy kod ilustruje ich podstawowe działanie. Dodatkowe metody obiektu $ndarray$ można znaleźć w oficjalnej *[dokumentacji](https://docs.scipy.org/doc/numpy/reference/arrays.ndarray.html)*."
   ]
  },
  {
   "cell_type": "code",
   "execution_count": 7,
   "metadata": {
    "tags": []
   },
   "outputs": [
    {
     "name": "stdout",
     "output_type": "stream",
     "text": [
      "Wektor:\n",
      "[1 2 3]\n",
      "Długość: 3\n",
      "Rozmiar: (3,) \n",
      "\n",
      "Macierz:\n",
      "[[1 2 3]\n",
      " [4 5 6]\n",
      " [7 8 9]]\n",
      "Rozmiar: (3, 3)\n"
     ]
    }
   ],
   "source": [
    "vector = np.array([1, 2, 3])\n",
    "print('Wektor:')\n",
    "print(vector)\n",
    "print('Długość:', len(vector))\n",
    "print('Rozmiar:', vector.shape, '\\n')\n",
    "\n",
    "matrix = np.array([[1, 2, 3], [4, 5, 6], [7, 8, 9]])\n",
    "print('Macierz:')\n",
    "print(matrix)\n",
    "print('Rozmiar:', matrix.shape)\n"
   ]
  },
  {
   "cell_type": "markdown",
   "metadata": {},
   "source": [
    "***Zadanie 1.***  \n",
    "Zaimplementuj funkcję $cylinder\\_area$ tak by zwracała pole powierzchni walca o promieniu podstawy $r$ i wysokości $h$. Stała $\\pi$ jest zdefiniowana np. w bibliotece *[math](https://docs.python.org/3/library/math.html#constants)*. Jeżeli nie da się policzyć pola funkcja powinna zwracać wartość *NaN*. Sprawdź działanie zaimplementowanej funkcji dla dowolnych wartości w tym notatniku."
   ]
  },
  {
   "cell_type": "code",
   "execution_count": 8,
   "metadata": {},
   "outputs": [
    {
     "name": "stdout",
     "output_type": "stream",
     "text": [
      "37.69911184307752\n",
      "0.0\n",
      "0.0\n",
      "0.0\n",
      "nan\n",
      "nan\n"
     ]
    }
   ],
   "source": [
    "def cylinder_area(r:float,h:float):\n",
    "    if (r < 0) or (h < 0):\n",
    "        return np.NaN\n",
    "    \n",
    "    else:\n",
    "        result = (math.pi*(r)**2*h)\n",
    "        \n",
    "        return result\n",
    "\n",
    "print(cylinder_area(2,3))\n",
    "print(cylinder_area(0,3))\n",
    "print(cylinder_area(2,0))\n",
    "print(cylinder_area(0,0))\n",
    "print(cylinder_area(-2,3))\n",
    "print(cylinder_area(2,-3))\n"
   ]
  },
  {
   "cell_type": "markdown",
   "metadata": {},
   "source": [
    "***Zadanie 2.***  \n",
    "Wygeneruj dowolne ciągi arytmetyczny o kroku różnym od jeden i niebędącym liczbą całkowitą, używając w tym celu funkcji *[arange](https://docs.scipy.org/doc/numpy/reference/generated/numpy.arange.html)* oraz *[linspace](https://docs.scipy.org/doc/numpy-1.10.0/reference/generated/numpy.linspace.html)*. Wypisz go i przeanalizuj otrzymane rezultaty."
   ]
  },
  {
   "cell_type": "code",
   "execution_count": 9,
   "metadata": {},
   "outputs": [
    {
     "name": "stdout",
     "output_type": "stream",
     "text": [
      "[2.  2.2 2.4 2.6 2.8 3.  3.2 3.4 3.6 3.8 4.  4.2 4.4 4.6 4.8]\n",
      "[2.  2.2 2.4 2.6 2.8 3.  3.2 3.4 3.6 3.8 4.  4.2 4.4 4.6 4.8 5. ]\n"
     ]
    }
   ],
   "source": [
    "V_1 = np.arange(2,5,0.2)\n",
    "\n",
    "V_2 = np.linspace(2,5,16)\n",
    "\n",
    "print(V_1)\n",
    "print(V_2)"
   ]
  },
  {
   "cell_type": "markdown",
   "metadata": {},
   "source": [
    "***Zadanie 3.***  \n",
    "Zaimplementuj funkcję $fib$ zwracającą wektor pierszych n elementów *[ciągu Fibonnaciego](https://pl.wikipedia.org/wiki/Ci%C4%85g_Fibonacciego)*, jeżeli nie jest to możliwe funkcja powinna zwrócić wartość *None*."
   ]
  },
  {
   "cell_type": "code",
   "execution_count": 10,
   "metadata": {},
   "outputs": [],
   "source": [
    "def fib(n):\n",
    "    \n",
    "    list_of_Fib = []\n",
    "    if not isinstance(n,int):\n",
    "        return None\n",
    "    elif n <= 0:\n",
    "        return None\n",
    "    elif n == 1:\n",
    "        return [1]\n",
    "    else:\n",
    "\n",
    "        list_of_Fib.append(1)\n",
    "        last, value = 0, 1\n",
    "    \n",
    "        for i in range(0, n-1):\n",
    "            last, value = value, last + value\n",
    "            list_of_Fib.append(float(value))\n",
    "\n",
    "    array_of_Fib = np.array([list_of_Fib])\n",
    "    return array_of_Fib\n",
    "    "
   ]
  },
  {
   "cell_type": "markdown",
   "metadata": {},
   "source": [
    "***Zadanie 4.***  \n",
    "Napisz funkję $matrix\\_calculations$ która jako argument przyjmuje dowolną wartość liczbową *a* i tworzy macierz:  \n",
    "  \n",
    "$\\mathbf{M} =\\left[ \\begin{matrix}\n",
    "a & 1 & -a\\\\\n",
    "0 & 1 & 1\\\\\n",
    "-a & a & 1\n",
    "\\end{matrix}\\right]\n",
    "$    \n",
    "   \n",
    "Dla zadeklarowanej macierzy wyznacz numerycznie macierz odwrotną $\\mathbf{Minv}$ (jeżeli nie istnieje taka macierz wartość wynosi NaN), macierz transponowaną $\\mathbf{Mt}$ i wyznacznik macierzy $\\mathbf{Mdet}$. Zwróć otrzymane wartości w postaci krotki postaci $(\\mathbf{Minv}, \\mathbf{Mt}, \\mathbf{Mdet})$.  Wypisz otrzymane wyniki. \n",
    "  \n",
    "***Wskazówki:*** Do tworzenia obiektów mających własności macierzy w języku Python używa się klasy *[array](https://docs.scipy.org/doc/numpy-1.15.1/reference/generated/numpy.array.html)* z pakietu *[numpy](http://www.numpy.org/)*, przykładowe użycie:"
   ]
  },
  {
   "cell_type": "code",
   "execution_count": 12,
   "metadata": {
    "scrolled": true,
    "tags": []
   },
   "outputs": [
    {
     "name": "stdout",
     "output_type": "stream",
     "text": [
      "Wektor poziomy:\n",
      " [1 2 3]\n",
      "Wektor pionowy:\n",
      " [[1]\n",
      " [2]\n",
      " [3]]\n",
      "Macierz:\n",
      " [[1 2]\n",
      " [3 4]]\n",
      "(array([[ 0.125,  0.625, -0.375],\n",
      "       [ 0.25 ,  0.25 ,  0.25 ],\n",
      "       [-0.25 ,  0.75 , -0.25 ]]), array([[ 2,  0, -2],\n",
      "       [ 1,  1,  2],\n",
      "       [-2,  1,  1]]), -7.999999999999998)\n",
      "(array([[ 0. ,  1. , -1. ],\n",
      "       [ 0.5,  0. ,  0.5],\n",
      "       [-0.5,  1. , -0.5]]), array([[ 1,  0, -1],\n",
      "       [ 1,  1,  1],\n",
      "       [-1,  1,  1]]), -2.0)\n",
      "(nan, array([[0, 0, 0],\n",
      "       [1, 1, 0],\n",
      "       [0, 1, 1]]), 0.0)\n",
      "(array([[-1. ,  1. , -0. ],\n",
      "       [-0.5,  1. , -0.5],\n",
      "       [ 0.5,  0. ,  0.5]]), array([[-1,  0,  1],\n",
      "       [ 1,  1, -1],\n",
      "       [ 1,  1,  1]]), -2.0)\n",
      "(array([[-0.375,  0.625,  0.125],\n",
      "       [-0.25 ,  0.75 , -0.25 ],\n",
      "       [ 0.25 ,  0.25 ,  0.25 ]]), array([[-2,  0,  2],\n",
      "       [ 1,  1, -2],\n",
      "       [ 2,  1,  1]]), -7.999999999999998)\n"
     ]
    }
   ],
   "source": [
    "a = np.array([1, 2, 3])\n",
    "b = np.array([[1], [2], [3]])\n",
    "A = np.array([[1,2],[3,4]])\n",
    "print(\"Wektor poziomy:\\n {0}\".format(a))\n",
    "print(\"Wektor pionowy:\\n {0}\".format(b))\n",
    "print(\"Macierz:\\n {0}\".format(A))\n",
    "\n",
    "def matrix_calculations(a:float) -> tuple[np.array, np.array, float]:\n",
    "    \n",
    "    M:np.array = np.array([[a,1,-a], [0,1,1], [-a,a,1]])  \n",
    "\n",
    "    Mdet:float = np.linalg.det(M)\n",
    "\n",
    "    Minv:np.array = np.zeros(3) \n",
    "    if Mdet != 0:\n",
    "        Minv:np.array = np.linalg.inv(M)\n",
    "    else:\n",
    "        Minv = np.NaN\n",
    "    \n",
    "    Mt:np.array = np.transpose(M)\n",
    "    \n",
    "    return Minv, Mt, Mdet\n",
    "print(matrix_calculations(2))\n",
    "print(matrix_calculations(1))\n",
    "print(matrix_calculations(0))\n",
    "print(matrix_calculations(-1))\n",
    "print(matrix_calculations(-2))"
   ]
  },
  {
   "cell_type": "markdown",
   "metadata": {},
   "source": [
    "Do wykonania operacji odwracania macierzy należy użyć funkcji *[inv](https://docs.scipy.org/doc/numpy/reference/generated/numpy.linalg.inv.html)*, do obliczenia wyznacznika macierzy stosuje się funkcję *[det](https://docs.scipy.org/doc/numpy-1.15.0/reference/generated/numpy.linalg.det.html)*  z bliblioteki *[linalg](https://docs.scipy.org/doc/numpy/reference/routines.linalg.html)*. Natomiast transpozycję macierzy wykonujemy przez funkcję *[transpose](https://docs.scipy.org/doc/numpy-1.14.0/reference/generated/numpy.transpose.html)* której skrucona wersja to $M.T$ z pakietu *numpy*.  \n",
    "    \n",
    "*Ciekawostka:* Python natywnie nie zawiera struktury danych typu tablica, na poziomie języka jest to rozwiązane poprzez strukturę listy list do której elementów odwołuje się poprzez indeksy jak w C/C++."
   ]
  },
  {
   "cell_type": "markdown",
   "metadata": {},
   "source": [
    "***Zadanie 5.***  \n",
    "Stwórz w noataniku macierz:  \n",
    "$\\mathbf{M} =\\left[ \\begin{matrix}\n",
    "3 & 1 & -2 & 4\\\\\n",
    "0 & 1 & 1 & 5\\\\\n",
    "-2 & 1 & 1 & 6\\\\\n",
    "4 & 3 & 0 & 1\\\\\n",
    "\\end{matrix}\\right]\n",
    "$   \n",
    "Wypisz przy pomocy funkcji *print* następujące elementy macierzy $\\mathbf{M}$: $\\mathbf{M}_{1,1},\\mathbf{M}_{3,3},\\mathbf{M}_{3,2}$. Zdefiniuj wektor $\\mathbf{w1}$ którego elementy to trzecia kolumna macierzy $\\mathbf{M}$ oraz wektor $\\mathbf{w2}$ który składa się z drugiego wiersza tej macierzy.  \n",
    "  \n",
    "***Wskazówki:***\n",
    "Tablice z pakietu *numpy* są indeksowane od zera a do każdego elementu można odwołać się poprzez jego indeks. Przykład użycie\n"
   ]
  },
  {
   "cell_type": "code",
   "execution_count": 13,
   "metadata": {
    "tags": []
   },
   "outputs": [
    {
     "name": "stdout",
     "output_type": "stream",
     "text": [
      "Macierz P=\n",
      "[[1 3 2]\n",
      " [3 4 6]\n",
      " [7 8 9]]\n",
      "Elementy trzeciej kolumny:\n",
      " [2 6 9]\n",
      "Elementy trzeciego wiersza:\n",
      " [7 8 9]\n",
      "3\n",
      "1\n",
      "1\n",
      "[-2  1  1  0]\n",
      "[0 1 1 5]\n",
      "None\n"
     ]
    }
   ],
   "source": [
    "# Inicjalizacja macierzy do przykładu\n",
    "P = np.array([[1,3,2],[3,4, 6],[7,8,9]])\n",
    "print(\"Macierz P=\\n{0}\".format(P))\n",
    "# wyciągnięcie trzeciej kolumny \n",
    "wektor1 = P[:,2]\n",
    "# wyciągnięcie trzeciego wiersza \n",
    "wektor2 = P[2,:]\n",
    "print(\"Elementy trzeciej kolumny:\\n {0}\".format(wektor1))\n",
    "print(\"Elementy trzeciego wiersza:\\n {0}\".format(wektor2))\n",
    "\n",
    "def From_matrix():\n",
    "    M = np.array([[3, 1, -2, 4],[0, 1, 1, 5],[-2, 1, 1, 6],[4, 3, 0, 1]])\n",
    "    w1 = M[:,2]\n",
    "    w2 = M[1,:]\n",
    "    \n",
    "    print(M[0,0])\n",
    "    print(M[2,2])\n",
    "    print(M[2,1])\n",
    "    print(w1)\n",
    "    print(w2)\n",
    "\n",
    "print(From_matrix())"
   ]
  },
  {
   "cell_type": "markdown",
   "metadata": {},
   "source": [
    "Dodatkowo twórcy biblioteki umożliwiają użytkownikowi na manipulację elementami tablicy poprzez operator ':', więcej szczegółów na temat jego użycia w artykule [NumPy for Matlab users](https://docs.scipy.org/doc/numpy/user/numpy-for-matlab-users.html#numpy-for-matlab-users)."
   ]
  },
  {
   "cell_type": "markdown",
   "metadata": {},
   "source": [
    "***Zadanie 6.***   \n",
    "Uzupełnij funkcję $custom\\_matrix$, tak by parametry m, n określały wymiary macierzy wynikowej, która\n",
    "będzie wypełniona w/g algorytmu: jeśli indeks wiersza jest większy od indeksu kolumny\n",
    "wartością komórki jest indeks wiersza, w przeciwnym wypadku wartością komórki jest indeks\n",
    "kolumny. Funkcja jako wynik powinna zwracać uzupełnioną macierz, jeżeli nie jest to możliwe to powinna zwrócić *None*. Na koniec wyświetlić wynikową macierz dla dowolnych argumentów $m$, $n$ z przedziału $\\langle3,7\\rangle$.\n",
    "  \n",
    "***Wskazówka:*** Inicjalizacja pustej macierz wykonywana jest w pakiecie Numpy przy pomocy funkcji  *[zeros](https://docs.scipy.org/doc/numpy-1.15.0/reference/generated/numpy.zeros.html)*, zaś macierzy składającej się z jedynek *[ones](https://docs.scipy.org/doc/numpy/reference/generated/numpy.ones.html)*."
   ]
  },
  {
   "cell_type": "code",
   "execution_count": 15,
   "metadata": {
    "tags": []
   },
   "outputs": [
    {
     "name": "stdout",
     "output_type": "stream",
     "text": [
      "zero_matrix: \n",
      "[[0. 0.]\n",
      " [0. 0.]]\n",
      "ones_matrix: \n",
      "[[1.]\n",
      " [1.]\n",
      " [1.]]\n",
      "[[0. 1. 2.]\n",
      " [1. 1. 2.]\n",
      " [2. 2. 2.]]\n"
     ]
    }
   ],
   "source": [
    "zero_matrix = np.zeros((2, 2))\n",
    "ones_matrix = np.ones((3,1))\n",
    "\n",
    "\n",
    "\n",
    "print('zero_matrix: \\n{}'.format(zero_matrix))\n",
    "print('ones_matrix: \\n{}'.format(ones_matrix))\n",
    "\n",
    "def custom_matrix(m:int, n:int):\n",
    "\n",
    "    if (m > 0) and isinstance(m, int) and (n > 0) and isinstance(n, int):\n",
    "        \n",
    "        Matrix = np.zeros((m, n))\n",
    "        r_index:int = 0\n",
    "        c_index:int = 0     \n",
    "        \n",
    "        for i in range(n):\n",
    "            for j in range(m):\n",
    "\n",
    "                if r_index > c_index:\n",
    "                    Matrix[r_index, c_index]= r_index\n",
    "\n",
    "                else:\n",
    "                    Matrix[r_index, c_index]= c_index\n",
    "\n",
    "                r_index += 1\n",
    "            r_index = 0\n",
    "            c_index += 1       \n",
    "        return Matrix\n",
    "\n",
    "    else:\n",
    "        return None\n",
    "m = np.random.randint(3, 7)\n",
    "n = np.random.randint(3, 7)\n",
    "print(custom_matrix(m, n))"
   ]
  },
  {
   "cell_type": "markdown",
   "metadata": {},
   "source": [
    "***Zadanie 7.***\n",
    "\n",
    "Biblioteka Numpy posiada własne metody, pozwalające na szybsze i wygotniejsze wykonywanie operacji na wektorach i macierzach. Kolejne zadania mają na celu przećwiczenie tych metod. Zamiast samemu implementować mnożenie macierzy, należy skorzystać właśnie z wbudowanych funkcji Numpy. Najbardzie podstawowe z nich to *[np.multiply](https://docs.scipy.org/doc/numpy-1.15.0/reference/generated/numpy.multiply.html)*, *[np.dot](https://docs.scipy.org/doc/numpy-1.15.0/reference/generated/numpy.dot.html)* oraz *[np.matmul](https://docs.scipy.org/doc/numpy-1.15.1/reference/generated/numpy.matmul.html)*. Przed wykonaniem zadania należy zapoznać się z ich dokumentacją, aby stosować poprawną funkcję do danego typu mnożenia. Dodatkowo ciekawą i użyteczną funkcjonalnością Numpy, wykorzystywaną niekiedy przy dodawaniu macierzy jest *broadcasting*, proszę o zapoznaie się z opisem:  *[[1]](https://docs.scipy.org/doc/numpy-1.15.0/user/basics.broadcasting.html)* *[[2]](https://www.tutorialspoint.com/numpy/numpy_broadcasting.htm)*.\n",
    "\n",
    "Zainicjalizować dwa wektory $v_1$ i $v_2$:\n",
    "\n",
    "$v_1 = \\begin{bmatrix}1\\\\3\\\\13\\end{bmatrix} \\quad v_2 = \\begin{bmatrix}8\\\\5\\\\-2\\end{bmatrix}$\n",
    "\n",
    "Następnie wykonać operacje i wypisać ich wynik:\n",
    "- $4*v_1$\n",
    "- $-v_2 + \\begin{bmatrix}2\\\\2\\\\2\\end{bmatrix}$\n",
    "- $v_1 \\circ v_2$ (w sensie mnożenia macierzy, tzw. mnożenie macierzy w sensie Cauchy’ego)\n",
    "- $v_1 * v_2$ (w sensie mnożenia Hadamarda (element-wise))\n",
    "\n",
    "***Wskazówki:*** Warto wiedzieć o *[np.dot](https://docs.scipy.org/doc/numpy-1.15.0/reference/generated/numpy.dot.html)* i *[np.multiply](https://docs.scipy.org/doc/numpy-1.15.0/reference/generated/numpy.multiply.html)*. Zbadać jak zachowuje się przeciążony operator mnożenia $*$ oraz $@$ dla macierzy $ndarray$."
   ]
  },
  {
   "cell_type": "markdown",
   "metadata": {},
   "source": [
    "***Zadanie 8.***\n",
    "Zainicjalizować macierz $M_1$:\n",
    "\n",
    "$M_1 = \\begin{bmatrix}1&-7&3\\\\-12&3&4\\\\5&13&-3\\end{bmatrix}$\n",
    "\n",
    "Następnie wykonać operacje i wypisać ich wynik:\n",
    "- $3M_1$\n",
    "- $3M_1 + \\begin{bmatrix}1&1&1\\\\1&1&1\\\\1&1&1\\end{bmatrix}$\n",
    "- $M_1^T$\n",
    "- $M_1 \\circ v_1$ \n",
    "- $v_2^T \\circ M_1$"
   ]
  },
  {
   "cell_type": "code",
   "execution_count": 17,
   "metadata": {},
   "outputs": [
    {
     "name": "stdout",
     "output_type": "stream",
     "text": [
      "[[ 4]\n",
      " [12]\n",
      " [52]]\n",
      "[[-6]\n",
      " [-3]\n",
      " [ 4]]\n",
      "[[  8   5  -2]\n",
      " [ 24  15  -6]\n",
      " [104  65 -26]]\n",
      "[[  8]\n",
      " [ 15]\n",
      " [-26]]\n",
      "[[  3 -21   9]\n",
      " [-36   9  12]\n",
      " [ 15  39  -9]]\n",
      "[[  4. -20.  10.]\n",
      " [-35.  10.  13.]\n",
      " [ 16.  40.  -8.]]\n",
      "[[  1 -12   5]\n",
      " [ -7   3  13]\n",
      " [  3   4  -3]]\n",
      "[[19]\n",
      " [49]\n",
      " [ 5]]\n",
      "[[-62 -67  50]]\n",
      "None\n"
     ]
    }
   ],
   "source": [
    "def Task7_8():\n",
    "\n",
    "    v1:np.array = np.array([[1],[3],[13]])\n",
    "    v2:np.array = np.array([[8],[5],[-2]])\n",
    "\n",
    "    v_4v1:np.array = np.dot(4, v1)\n",
    "    v_v2_add_vector:np.array = np.add(-v2, [[2],[2],[2]])\n",
    "    v_v1_cauchy_v2:np.array = np.dot(v1, np.transpose(v2))\n",
    "    v_v1_hadamard_v2:np.array = np.multiply(v1, v2)\n",
    "\n",
    "\n",
    "\n",
    "    print(v_4v1)\n",
    "    print(v_v2_add_vector)\n",
    "    print(v_v1_cauchy_v2)\n",
    "    print(v_v1_hadamard_v2)\n",
    "\n",
    "\n",
    "    M1 = np.array([[1,-7,3],[-12,3,4],[5,13,-3]])\n",
    "\n",
    "    Matrix_3M1 = np.dot(3, M1)\n",
    "    Matrix_3M1_add_onematrix = np.add(np.dot(3, M1), np.ones(3))\n",
    "    Matrix_M1transpose = np.transpose(M1)\n",
    "    Matrix_M1v1 = np.dot(M1, v1)\n",
    "    Matrix_v1transposeM1 = np.dot(np.transpose(v2), M1)\n",
    "\n",
    "    print(Matrix_3M1)\n",
    "    print(Matrix_3M1_add_onematrix)\n",
    "    print(Matrix_M1transpose)\n",
    "    print(Matrix_M1v1)\n",
    "    print(Matrix_v1transposeM1)\n",
    "\n",
    "\n",
    "print(Task7_8())"
   ]
  },
  {
   "cell_type": "markdown",
   "metadata": {},
   "source": [
    "Materiały uzupełniające:\n",
    "- [Scipy Lecture Notes](http://www.scipy-lectures.org/index.html)\n",
    "- [NumPy for Matlab users](https://docs.scipy.org/doc/numpy/user/numpy-for-matlab-users.html#numpy-for-matlab-users)\n",
    "- [Python Tutorial - W3Schools](https://www.w3schools.com/python/default.asp)\n",
    "- [NumPy](https://www.numpy.org)\n",
    "- [Matplotlib](https://matplotlib.org/)\n",
    "- [Anaconda](https://www.anaconda.com/)\n",
    "- [Learn Python for Data Science](https://www.datacamp.com/learn-python-with-anaconda?utm_source=Anaconda_download&utm_campaign=datacamp_training&utm_medium=banner)\n",
    "- [Learn Python](https://www.learnpython.org/)\n",
    "- [Wujek Google](https://google.pl) i [Ciocia Wikipedia](https://pl.wikipedia.org/wiki/Wikipedia:Strona_g%C5%82%C3%B3wna)"
   ]
  },
  {
   "cell_type": "markdown",
   "metadata": {},
   "source": [
    "Wnioski:\n",
    "\n",
    "-W pierwszym zadaniu najważniejsze było postawienie prawidłowych warunków zadziałania funkcji. Dodatkowo konieczne było zaimportowanie biblioteki math aby uzyskac wartość Pi.\n",
    "-W drugim zadaniu należało zaimportować bibliotekę numpy a następnie przy pomocy funkcji arange oraz linspace wygenerować dwa wektory. Powyżej przedstawiłem dwa takie same wektory wygenerowane przez te dwie funkcje. Funkcje te są bardzo podobne do siebie, zarówno w jednej jak i w drugiej jako dwa pierwsze argumenty przedstawiamy wartości początkową i końcową. Różnią się natomiast trzecim argumentem. W funkcji arange argument ten reprezentuje krok o jaki wartości się zmieniają, natomiast w funkcji linspace jest to długość jaką ma mieć nasz wektor.\n",
    "-W zadaniu trzecim napisana została funkcja wypisująca elementy ciągu Fibonaciego. Funkcja ta jest napisana w sposób iteracyjny.\n",
    "Dodatkowo na początku programu zostały zawartę warunki: gdy liczba nie bedzie liczbą całkowitą lub będzie liczbą całkowitą mniejszą bądź równą 0 funkcja zwróci wartość None.\n",
    "-W zadaniu czwartym głównym zadaniem było zapoznanie się z funkcjami operacji na macierzach (linalg, transpose) oraz urzyć ich do obliczenia wskazanych w zadaniu elementów \n",
    "-Zadanie piąte polegało na stworzeniu podanej macierzy a następnie wypisaniu z niej konkretnych elementów, wiersz oraz kolumne. Ważne aby zwrócić uwagę na indeksowanie gdyż odbywa się ono od 0\n",
    "-W zadaniu szóstym najpierw stworzona została macierz z elementami zerowymi, a nastepnie przy pomocy dwóch pętli for (jedna zagnieżdżona w drugiej) uzupełniamy macierz zgodnie z treścią zadania. Dodatkowo na początku funkcji stosujemy zabezpeiczenie które akurat w naszym przypadku (przy wykorzystaniu funkcji randint) jest zawsze spełnione, jednak zabezpieczenie to jest wymagane aby przejsć test działania programy.\n",
    "-Zadanie siódme oraz ósme są do siebie bardzo podobne. W siódmym wykonujemy działania na wektorach natomiast w ósmym na macierzy. Podczas robienia punktu siedem miałem problem z mnożeniem Cauhy'ego jednak wkońcu zorientowałem się, że oczywiście są to dwa wektory a wiec aby dokonać jakiego kolwiek mnożenia musimy jeden z nich przetransponowac. W innym wypadku program wyrzuca nam błąd.  "
   ]
  }
 ],
 "metadata": {
  "celltoolbar": "Raw Cell Format",
  "interpreter": {
   "hash": "fe44fef87f92f48a3a32707d0df204585f471652bc0ce87358a3ce712bc24db0"
  },
  "kernelspec": {
   "display_name": "Python 3.9.7 64-bit",
   "name": "python3"
  },
  "language_info": {
   "codemirror_mode": {
    "name": "ipython",
    "version": 3
   },
   "file_extension": ".py",
   "mimetype": "text/x-python",
   "name": "python",
   "nbconvert_exporter": "python",
   "pygments_lexer": "ipython3",
   "version": "3.9.7"
  }
 },
 "nbformat": 4,
 "nbformat_minor": 2
}
